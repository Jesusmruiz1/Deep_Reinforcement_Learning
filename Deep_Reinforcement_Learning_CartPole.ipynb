{
  "nbformat": 4,
  "nbformat_minor": 0,
  "metadata": {
    "colab": {
      "name": "Deep Reinforcement Learning CartPole",
      "provenance": []
    },
    "kernelspec": {
      "name": "python3",
      "display_name": "Python 3"
    }
  },
  "cells": [
    {
      "cell_type": "markdown",
      "metadata": {
        "id": "eBPE9twCzOIe"
      },
      "source": [
        "#**1. Entorno CartPole**"
      ]
    },
    {
      "cell_type": "code",
      "metadata": {
        "id": "s8B8umSJycI0"
      },
      "source": [
        "import gym\r\n",
        "import torch\r\n",
        "import numpy as np\r\n",
        "import matplotlib.pyplot as plt\r\n",
        "\r\n",
        "env = gym.envs.make(\"CartPole-v0\")"
      ],
      "execution_count": 1,
      "outputs": []
    },
    {
      "cell_type": "code",
      "metadata": {
        "colab": {
          "base_uri": "https://localhost:8080/"
        },
        "id": "hdbKExyOzYFd",
        "outputId": "983d8f61-0a2f-4237-e73b-3aa17dce014a"
      },
      "source": [
        "print(\"Action space is {} \".format(env.action_space))\r\n",
        "print(\"Observation space is {} \".format(env.observation_space.shape))\r\n",
        "print(\"Reward range is {} \".format(env.reward_range))\r\n",
        "print(\"Maximum number of episodes by step is {}\".format(env.spec.max_episode_steps))\r\n",
        "print(\"Reward threshold is {}\".format(env.spec.reward_threshold))"
      ],
      "execution_count": 2,
      "outputs": [
        {
          "output_type": "stream",
          "text": [
            "Action space is Discrete(2) \n",
            "Observation space is (4,) \n",
            "Reward range is (-inf, inf) \n",
            "Maximum number of episodes by step is 200\n",
            "Reward threshold is 195.0\n"
          ],
          "name": "stdout"
        }
      ]
    },
    {
      "cell_type": "code",
      "metadata": {
        "colab": {
          "base_uri": "https://localhost:8080/"
        },
        "id": "F1kZG-CUzhBt",
        "outputId": "7dceba58-fee7-4396-f33d-14c7f6cd207e"
      },
      "source": [
        "#Visualizamos el entorno\r\n",
        "for i_episode in range(10):\r\n",
        "    obs = env.reset()\r\n",
        "    for t in range(100):\r\n",
        "        print(obs)\r\n",
        "        action = env.action_space.sample() #Tomamos una acción\r\n",
        "        obs, reward, done, info = env.step(action) #ejecución de la acción elegida\r\n",
        "        if done:\r\n",
        "            print(\"Episode finished after {} timesteps\".format(t+1)) \r\n",
        "            break\r\n"
      ],
      "execution_count": 5,
      "outputs": [
        {
          "output_type": "stream",
          "text": [
            "[-0.02509271  0.03545034 -0.00406751  0.03728048]\n",
            "[-0.0243837  -0.15961304 -0.0033219   0.3286773 ]\n",
            "[-0.02757596 -0.35468755  0.00325165  0.6203108 ]\n",
            "[-0.03466972 -0.54985476  0.01565787  0.91401606]\n",
            "[-0.04566681 -0.74518497  0.03393819  1.21157867]\n",
            "[-0.06057051 -0.9407282   0.05816976  1.51470053]\n",
            "[-0.07938507 -0.74635655  0.08846377  1.24072845]\n",
            "[-0.0943122  -0.55247473  0.11327834  0.97701739]\n",
            "[-0.1053617  -0.74891847  0.13281869  1.3030271 ]\n",
            "[-0.12034007 -0.94545135  0.15887923  1.63416399]\n",
            "[-0.1392491  -1.14204146  0.19156251  1.97184935]\n",
            "Episode finished after 11 timesteps\n",
            "[ 0.03022547 -0.02932387 -0.04662758 -0.04109496]\n",
            "[ 0.02963899 -0.22374725 -0.04744948  0.2365196 ]\n",
            "[ 0.02516404 -0.41816032 -0.04271909  0.51386606]\n",
            "[ 0.01680084 -0.22246357 -0.03244177  0.20803316]\n",
            "[ 0.01235157 -0.41710697 -0.02828111  0.49030842]\n",
            "[ 0.00400943 -0.22159772 -0.01847494  0.18884827]\n",
            "[-0.00042253 -0.02621639 -0.01469797 -0.10960503]\n",
            "[-0.00094686  0.16911306 -0.01689007 -0.4068886 ]\n",
            "[ 0.00243541 -0.02576537 -0.02502785 -0.1195781 ]\n",
            "[ 0.0019201   0.16970606 -0.02741941 -0.42005084]\n",
            "[ 0.00531422  0.36520558 -0.03582042 -0.72125018]\n",
            "[ 0.01261833  0.56080428 -0.05024543 -1.02498897]\n",
            "[ 0.02383442  0.756558   -0.07074521 -1.33301492]\n",
            "[ 0.03896558  0.5623957  -0.09740551 -1.06328174]\n",
            "[ 0.05021349  0.75866268 -0.11867114 -1.38487865]\n",
            "[ 0.06538674  0.5652036  -0.14636871 -1.13153846]\n",
            "[ 0.07669082  0.7619065  -0.16899948 -1.46631677]\n",
            "[ 0.09192895  0.9586462  -0.19832582 -1.80667173]\n",
            "Episode finished after 18 timesteps\n",
            "[-0.04313109 -0.03805517 -0.02735326 -0.04457776]\n",
            "[-0.04389219 -0.23277442 -0.02824481  0.23935101]\n",
            "[-0.04854768 -0.42748173 -0.02345779  0.52299261]\n",
            "[-0.05709732 -0.23203761 -0.01299794  0.22301113]\n",
            "[-0.06173807 -0.03673232 -0.00853772 -0.07374335]\n",
            "[-0.06247271 -0.23173084 -0.01001258  0.21623371]\n",
            "[-0.06710733 -0.03646719 -0.00568791 -0.07959073]\n",
            "[-0.06783668 -0.23150714 -0.00727972  0.21129223]\n",
            "[-0.07246682 -0.42652426 -0.00305388  0.50166993]\n",
            "[-0.0809973  -0.23135939  0.00697952  0.20802616]\n",
            "[-0.08562449 -0.42658045  0.01114004  0.50290257]\n",
            "[-0.0941561  -0.62185763  0.02119809  0.79907527]\n",
            "[-0.10659325 -0.4270328   0.0371796   0.51313545]\n",
            "[-0.11513391 -0.62265814  0.04744231  0.81729896]\n",
            "[-0.12758707 -0.81839635  0.06378829  1.12451872]\n",
            "[-0.143955   -0.62416584  0.08627866  0.85250653]\n",
            "[-0.15643832 -0.82035133  0.10332879  1.17102461]\n",
            "[-0.17284534 -1.01665383  0.12674928  1.49423248]\n",
            "[-0.19317842 -1.21306914  0.15663393  1.82365658]\n",
            "[-0.2174398  -1.40954491  0.19310707  2.16062466]\n",
            "Episode finished after 20 timesteps\n",
            "[ 0.00396583  0.04987741  0.0407434  -0.01861937]\n",
            "[ 0.00496337  0.24439209  0.04037101 -0.298174  ]\n",
            "[ 0.00985122  0.43891601  0.03440753 -0.57785627]\n",
            "[ 0.01862954  0.63353925  0.0228504  -0.85950453]\n",
            "[ 0.03130032  0.43811363  0.00566031 -0.5597252 ]\n",
            "[ 0.04006259  0.24291269 -0.00553419 -0.26526436]\n",
            "[ 0.04492085  0.4381132  -0.01083948 -0.55968767]\n",
            "[ 0.05368311  0.6333856  -0.02203323 -0.85576581]\n",
            "[ 0.06635082  0.82880075 -0.03914855 -1.15529464]\n",
            "[ 0.08292684  0.63421052 -0.06225444 -0.87513967]\n",
            "[ 0.09561105  0.43998761 -0.07975723 -0.60266065]\n",
            "[ 0.1044108   0.24606649 -0.09181045 -0.33612743]\n",
            "[ 0.10933213  0.05236287 -0.098533   -0.07375009]\n",
            "[ 0.11037939 -0.14121855 -0.100008    0.18629175]\n",
            "[ 0.10755502  0.05518149 -0.09628216 -0.13618966]\n",
            "[ 0.10865865 -0.13843896 -0.09900596  0.12463264]\n",
            "[ 0.10588987  0.05795172 -0.0965133  -0.197571  ]\n",
            "[ 0.1070489  -0.13566678 -0.10046472  0.06317429]\n",
            "[ 0.10433557  0.06074135 -0.09920124 -0.25943935]\n",
            "[ 0.10555039 -0.1328348  -0.10439002  0.00037998]\n",
            "[ 0.1028937  -0.32631678 -0.10438242  0.25838811]\n",
            "[ 0.09636736 -0.51980567 -0.09921466  0.516409  ]\n",
            "[ 0.08597125 -0.71340085 -0.08888648  0.77625241]\n",
            "[ 0.07170323 -0.90719519 -0.07336143  1.0396981 ]\n",
            "[ 0.05355933 -0.71117925 -0.05256747  0.72491611]\n",
            "[ 0.03933574 -0.51537128 -0.03806915  0.41616217]\n",
            "[ 0.02902832 -0.31973106 -0.02974591  0.11172483]\n",
            "[ 0.0226337  -0.51441442 -0.02751141  0.39487668]\n",
            "[ 0.01234541 -0.70913542 -0.01961388  0.67876032]\n",
            "[-0.0018373  -0.90397948 -0.00603867  0.96520409]\n",
            "[-0.01991689 -0.70877694  0.01326541  0.67063026]\n",
            "[-0.03409243 -0.90408078  0.02667802  0.96746016]\n",
            "[-0.05217404 -1.09955062  0.04602722  1.26840298]\n",
            "[-0.07416506 -1.2952292   0.07139528  1.57513724]\n",
            "[-0.10006964 -1.49112598  0.10289802  1.8892062 ]\n",
            "[-0.12989216 -1.68720421  0.14068215  2.21196652]\n",
            "[-0.16363624 -1.8833657   0.18492148  2.54452607]\n",
            "Episode finished after 37 timesteps\n",
            "[-0.04204413  0.00432025 -0.01853334 -0.02352197]\n",
            "[-0.04195773  0.19970302 -0.01900378 -0.32199427]\n",
            "[-0.03796367  0.00485677 -0.02544366 -0.03536445]\n",
            "[-0.03786653 -0.18989125 -0.02615095  0.2491834 ]\n",
            "[-0.04166436 -0.38463017 -0.02116728  0.5335044 ]\n",
            "[-0.04935696 -0.18921702 -0.0104972   0.23422762]\n",
            "[-0.0531413   0.00605333 -0.00581264 -0.06174788]\n",
            "[-0.05302024 -0.1889848  -0.0070476   0.22909547]\n",
            "[-0.05679993  0.00623715 -0.00246569 -0.06580217]\n",
            "[-0.05667519  0.20139436 -0.00378174 -0.35926201]\n",
            "[-0.0526473   0.00632637 -0.01096698 -0.06777395]\n",
            "[-0.05252078 -0.18863664 -0.01232245  0.22142876]\n",
            "[-0.05629351  0.00665925 -0.00789388 -0.07511555]\n",
            "[-0.05616032  0.20189348 -0.00939619 -0.37027854]\n",
            "[-0.05212245  0.00690628 -0.01680176 -0.08057309]\n",
            "[-0.05198433 -0.18797084 -0.01841322  0.20676184]\n",
            "[-0.05574374  0.00740951 -0.01427799 -0.09167219]\n",
            "[-0.05559555  0.20273317 -0.01611143 -0.3888254 ]\n",
            "[-0.05154089  0.39808006 -0.02388794 -0.68654425]\n",
            "[-0.04357929  0.20329771 -0.03761882 -0.40147648]\n",
            "[-0.03951334  0.3989325  -0.04564835 -0.70577837]\n",
            "[-0.03153469  0.20447176 -0.05976392 -0.42780706]\n",
            "[-0.02744525  0.0102449  -0.06832006 -0.15454706]\n",
            "[-0.02724035 -0.18383569 -0.071411    0.1158242 ]\n",
            "[-0.03091707  0.01223295 -0.06909452 -0.19850618]\n",
            "[-0.03067241  0.20827164 -0.07306464 -0.5121602 ]\n",
            "[-0.02650697  0.40434258 -0.08330785 -0.82694383]\n",
            "[-0.01842012  0.21045259 -0.09984672 -0.56158166]\n",
            "[-0.01421107  0.01686316 -0.11107836 -0.30194999]\n",
            "[-0.01387381 -0.17651482 -0.11711736 -0.04626057]\n",
            "[-0.0174041   0.02007479 -0.11804257 -0.37347876]\n",
            "[-0.01700261  0.21665844 -0.12551214 -0.70092618]\n",
            "[-0.01266944  0.41327612 -0.13953067 -1.03033648]\n",
            "[-0.00440392  0.22025851 -0.1601374  -0.7845129 ]\n",
            "[ 1.25286480e-06  2.76566771e-02 -1.75827653e-01 -5.46185981e-01]\n",
            "[ 0.00055439 -0.16461573 -0.18675137 -0.31365141]\n",
            "[-0.00273793  0.03260738 -0.1930244  -0.65892859]\n",
            "[-0.00208578 -0.1593789  -0.20620297 -0.4326948 ]\n",
            "Episode finished after 38 timesteps\n",
            "[ 0.00411789  0.04026368 -0.00183246 -0.04974721]\n",
            "[ 0.00492316  0.23541186 -0.0028274  -0.34300773]\n",
            "[ 0.0096314   0.43057392 -0.00968756 -0.63658091]\n",
            "[ 0.01824288  0.62582963 -0.02241918 -0.93229882]\n",
            "[ 0.03075947  0.8212468  -0.04106515 -1.2319416 ]\n",
            "[ 0.04718441  0.62667633 -0.06570399 -0.95240171]\n",
            "[ 0.05971793  0.82261795 -0.08475202 -1.26498304]\n",
            "[ 0.07617029  0.62867519 -0.11005168 -1.00000035]\n",
            "[ 0.08874379  0.43518246 -0.13005169 -0.743807  ]\n",
            "[ 0.09744744  0.63183658 -0.14492783 -1.07442463]\n",
            "[ 0.11008418  0.43889593 -0.16641632 -0.83050752]\n",
            "[ 0.11886209  0.24639185 -0.18302647 -0.59444152]\n",
            "[ 0.12378993  0.05423955 -0.1949153  -0.3645371 ]\n",
            "[ 0.12487472  0.25151998 -0.20220604 -0.71179716]\n",
            "Episode finished after 14 timesteps\n",
            "[ 0.00679271  0.00705247 -0.01159408  0.03003712]\n",
            "[ 0.00693375  0.20233876 -0.01099334 -0.2662812 ]\n",
            "[ 0.01098053  0.39761587 -0.01631896 -0.56241115]\n",
            "[ 0.01893285  0.59296297 -0.02756719 -0.86019035]\n",
            "[ 0.03079211  0.3982271  -0.04477099 -0.57630126]\n",
            "[ 0.03875665  0.59394709 -0.05629702 -0.88274533]\n",
            "[ 0.05063559  0.78978657 -0.07395193 -1.19258175]\n",
            "[ 0.06643132  0.98578443 -0.09780356 -1.50749704]\n",
            "[ 0.08614701  1.18194675 -0.1279535  -1.82904276]\n",
            "[ 0.10978595  0.98845393 -0.16453436 -1.57869197]\n",
            "[ 0.12955502  0.79562955 -0.1961082  -1.34151676]\n",
            "Episode finished after 11 timesteps\n",
            "[ 0.01999742 -0.02387495  0.00108495 -0.04976857]\n",
            "[ 1.95199259e-02  1.71231428e-01  8.95819742e-05 -3.42108989e-01]\n",
            "[ 0.02294455  0.3663521  -0.0067526  -0.63476367]\n",
            "[ 0.0302716   0.56156759 -0.01944787 -0.92956547]\n",
            "[ 0.04150295  0.36671348 -0.03803918 -0.64305688]\n",
            "[ 0.04883722  0.56234439 -0.05090032 -0.9474718 ]\n",
            "[ 0.06008411  0.75811343 -0.06984975 -1.25570326]\n",
            "[ 0.07524637  0.56395181 -0.09496382 -0.98569016]\n",
            "[ 0.08652541  0.37022118 -0.11467762 -0.72428096]\n",
            "[ 0.09392983  0.17685618 -0.12916324 -0.46977995]\n",
            "[ 0.09746696  0.37354349 -0.13855884 -0.8002218 ]\n",
            "[ 0.10493783  0.18056641 -0.15456328 -0.55413648]\n",
            "[ 0.10854916 -0.01208604 -0.16564601 -0.31386365]\n",
            "[ 0.10830743 -0.20450865 -0.17192328 -0.07765807]\n",
            "[ 0.10421726 -0.39680247 -0.17347644  0.15623353]\n",
            "[ 0.09628121 -0.58907109 -0.17035177  0.38956108]\n",
            "[ 0.08449979 -0.78141755 -0.16256055  0.62406296]\n",
            "[ 0.06887144 -0.58444412 -0.15007929  0.28491555]\n",
            "[ 0.05718256 -0.77714252 -0.14438098  0.52675617]\n",
            "[ 0.04163971 -0.58031568 -0.13384585  0.19228716]\n",
            "[ 0.03003339 -0.38355822 -0.13000011 -0.13944263]\n",
            "[ 0.02236223 -0.18683717 -0.13278896 -0.47014675]\n",
            "[ 0.01862549 -0.37985801 -0.1421919  -0.2220897 ]\n",
            "[ 0.01102832 -0.18302026 -0.14663369 -0.55603021]\n",
            "[ 0.00736792  0.01382307 -0.1577543  -0.89108256]\n",
            "[ 0.00764438 -0.17884756 -0.17557595 -0.65185296]\n",
            "[ 0.00406743  0.01822858 -0.18861301 -0.99427696]\n",
            "[ 0.004432    0.21530405 -0.20849855 -1.33977155]\n",
            "Episode finished after 28 timesteps\n",
            "[-0.00682682 -0.02219734 -0.02611266  0.02383863]\n",
            "[-0.00727076  0.17328917 -0.02563588 -0.27696741]\n",
            "[-0.00380498  0.3687673  -0.03117523 -0.57762439]\n",
            "[ 0.00357037  0.17409585 -0.04272772 -0.29492313]\n",
            "[ 0.00705228 -0.02039173 -0.04862618 -0.01601615]\n",
            "[ 0.00664445 -0.21478382 -0.0489465   0.26093685]\n",
            "[ 0.00234877 -0.40917412 -0.04372777  0.53778857]\n",
            "[-0.00583471 -0.21346555 -0.032972    0.23165446]\n",
            "[-0.01010402 -0.40810123 -0.02833891  0.51375728]\n",
            "[-0.01826605 -0.21259185 -0.01806376  0.21228045]\n",
            "[-0.02251788 -0.01721636 -0.01381815 -0.08604545]\n",
            "[-0.02286221  0.17810091 -0.01553906 -0.38305579]\n",
            "[-0.01930019 -0.016797   -0.02320018 -0.09531251]\n",
            "[-0.01963613  0.17864965 -0.02510643 -0.39522384]\n",
            "[-0.01606314  0.37411868 -0.0330109  -0.69571548]\n",
            "[-0.00858077  0.56968253 -0.04692521 -0.9986049 ]\n",
            "[ 0.00281288  0.37521825 -0.06689731 -0.72102051]\n",
            "[ 0.01031725  0.18108241 -0.08131772 -0.45012126]\n",
            "[ 0.0139389   0.37725468 -0.09032015 -0.76728837]\n",
            "[ 0.02148399  0.18348456 -0.10566592 -0.50433596]\n",
            "[ 0.02515368  0.3799246  -0.11575263 -0.82836057]\n",
            "[ 0.03275217  0.18655933 -0.13231985 -0.57420896]\n",
            "[ 0.03648336 -0.0064836  -0.14380402 -0.3259644 ]\n",
            "[ 0.03635369  0.19036173 -0.15032331 -0.66031747]\n",
            "[ 0.04016092 -0.0023841  -0.16352966 -0.41848799]\n",
            "[ 0.04011324 -0.19485693 -0.17189942 -0.1814942 ]\n",
            "[ 0.0362161   0.00225453 -0.17552931 -0.52309365]\n",
            "[ 0.03626119 -0.19001904 -0.18599118 -0.29045595]\n",
            "[ 0.03246081  0.00720051 -0.1918003  -0.63554994]\n",
            "[ 0.03260482 -0.18480231 -0.2045113  -0.40887113]\n",
            "Episode finished after 30 timesteps\n",
            "[ 0.03676596 -0.0318006  -0.01834797  0.00047563]\n",
            "[ 0.03612995 -0.22665468 -0.01833846  0.28731354]\n",
            "[ 0.03159686 -0.42151037 -0.01259219  0.57415673]\n",
            "[ 0.02316665 -0.22621416 -0.00110905  0.27753364]\n",
            "[ 0.01864237 -0.03107641  0.00444162 -0.01549887]\n",
            "[ 0.01802084 -0.22626177  0.00413164  0.27858212]\n",
            "[ 0.0134956  -0.03119901  0.00970329 -0.01279483]\n",
            "[ 0.01287162  0.16378245  0.00944739 -0.30240053]\n",
            "[ 0.01614727 -0.03147286  0.00339938 -0.00675314]\n",
            "[ 0.01551781 -0.2266434   0.00326432  0.2870004 ]\n",
            "[ 0.01098495 -0.42181175  0.00900433  0.58071107]\n",
            "[ 0.00254871 -0.22681712  0.02061855  0.29087822]\n",
            "[-0.00198763 -0.42222691  0.02643611  0.58999202]\n",
            "[-0.01043217 -0.61770885  0.03823595  0.89088378]\n",
            "[-0.02278635 -0.42312593  0.05605363  0.61046137]\n",
            "[-0.03124886 -0.22883044  0.06826285  0.33594701]\n",
            "[-0.03582547 -0.4248541   0.07498179  0.64935138]\n",
            "[-0.04432256 -0.62093604  0.08796882  0.96467186]\n",
            "[-0.05674128 -0.81712253  0.10726226  1.28364318]\n",
            "[-0.07308373 -1.01343428  0.13293512  1.60789314]\n",
            "[-0.09335241 -1.20985353  0.16509299  1.93889046]\n",
            "[-0.11754948 -1.01683517  0.20387079  1.70161676]\n",
            "Episode finished after 22 timesteps\n"
          ],
          "name": "stdout"
        }
      ]
    },
    {
      "cell_type": "code",
      "metadata": {
        "id": "IJnNYIjnzpiF"
      },
      "source": [
        ""
      ],
      "execution_count": null,
      "outputs": []
    },
    {
      "cell_type": "markdown",
      "metadata": {
        "id": "6qSZ_DD2z2eh"
      },
      "source": [
        "# **2. Construcción de una DQN**"
      ]
    },
    {
      "cell_type": "code",
      "metadata": {
        "id": "4unCuyi8z7wY"
      },
      "source": [
        "class DQN(torch.nn.Module):\r\n",
        "    \r\n",
        "    def __init__(self, env, learning_rate=1e-3, device='cpu'):\r\n",
        "        super(DQN, self).__init__()\r\n",
        "        self.device = device\r\n",
        "        self.n_inputs = env.observation_space.shape[0]\r\n",
        "        self.n_outputs = env.action_space.n\r\n",
        "        self.actions = np.arange(env.action_space.n)\r\n",
        "        self.learning_rate = learning_rate\r\n",
        "        \r\n",
        "        ### Construcción de la red neuronal\r\n",
        "        self.model = torch.nn.Sequential(\r\n",
        "            torch.nn.Linear(self.n_inputs, 64, bias=True),\r\n",
        "            torch.nn.ReLU(),\r\n",
        "            torch.nn.Linear(64, 16, bias=True),\r\n",
        "            torch.nn.ReLU(),\r\n",
        "            torch.nn.Linear(16, self.n_outputs, bias=True))\r\n",
        "        \r\n",
        "        self.optimizer = torch.optim.Adam(self.parameters(), lr=self.learning_rate)\r\n",
        "        \r\n",
        "        \r\n",
        "       \r\n",
        "        if self.device == 'cuda':\r\n",
        "            self.model.cuda()\r\n",
        "            \r\n",
        "    \r\n",
        "    \r\n",
        "    def get_action(self, state, epsilon=0.05):\r\n",
        "        if np.random.random() < epsilon:\r\n",
        "            action = np.random.choice(self.actions)  \r\n",
        "        else:\r\n",
        "            qvals = self.get_qvals(state)  \r\n",
        "            action= torch.max(qvals, dim=-1)[1].item()\r\n",
        "        return action\r\n",
        "    \r\n",
        "    \r\n",
        "    def get_qvals(self, state):\r\n",
        "        if type(state) is tuple:\r\n",
        "            state = np.array([np.ravel(s) for s in state])\r\n",
        "        state_t = torch.FloatTensor(state).to(device=self.device)\r\n",
        "        return self.model(state_t)"
      ],
      "execution_count": 6,
      "outputs": []
    },
    {
      "cell_type": "code",
      "metadata": {
        "id": "2fQtvO6z0KYZ"
      },
      "source": [
        "from collections import namedtuple, deque"
      ],
      "execution_count": 7,
      "outputs": []
    },
    {
      "cell_type": "code",
      "metadata": {
        "id": "lueogDd90PN3"
      },
      "source": [
        "class experienceReplayBuffer:\r\n",
        "\r\n",
        "    def __init__(self, memory_size=20000, burn_in=100):\r\n",
        "        self.memory_size = memory_size\r\n",
        "        self.burn_in = burn_in\r\n",
        "        self.buffer = namedtuple('Buffer', \r\n",
        "            field_names=['state', 'action', 'reward', 'done', 'next_state'])\r\n",
        "        self.replay_memory = deque(maxlen=memory_size)\r\n",
        "\r\n",
        "    def sample_batch(self, batch_size=32):\r\n",
        "        samples = np.random.choice(len(self.replay_memory), batch_size, \r\n",
        "                                   replace=False)\r\n",
        "        batch = zip(*[self.replay_memory[i] for i in samples])\r\n",
        "        return batch\r\n",
        "\r\n",
        "    def append(self, state, action, reward, done, next_state):\r\n",
        "        self.replay_memory.append(\r\n",
        "            self.buffer(state, action, reward, done, next_state))\r\n",
        "\r\n",
        "    def burn_in_capacity(self):\r\n",
        "        return len(self.replay_memory) / self.burn_in"
      ],
      "execution_count": 8,
      "outputs": []
    },
    {
      "cell_type": "code",
      "metadata": {
        "id": "EFD1DayE0cwL"
      },
      "source": [
        "from copy import deepcopy, copy"
      ],
      "execution_count": 9,
      "outputs": []
    },
    {
      "cell_type": "code",
      "metadata": {
        "id": "8KDK61Ph0d7g"
      },
      "source": [
        "class DQNAgent:\r\n",
        "    \r\n",
        "    def __init__(self, env, dnnetwork, buffer, epsilon=0.1, eps_decay=0.99, batch_size=32):\r\n",
        "        \r\n",
        "        self.env = env\r\n",
        "        self.dnnetwork = dnnetwork\r\n",
        "        self.target_network = deepcopy(dnnetwork) \r\n",
        "        self.buffer = buffer\r\n",
        "        self.epsilon = epsilon\r\n",
        "        self.eps_decay = eps_decay\r\n",
        "        self.batch_size = batch_size\r\n",
        "        self.nblock = 100 \r\n",
        "        self.reward_threshold = self.env.spec.reward_threshold \r\n",
        "        self.initialize()\r\n",
        "    \r\n",
        "    \r\n",
        "    def initialize(self):\r\n",
        "        self.update_loss = []\r\n",
        "        self.training_rewards = []\r\n",
        "        self.mean_training_rewards = []\r\n",
        "        self.sync_eps = []\r\n",
        "        self.total_reward = 0\r\n",
        "        self.step_count = 0\r\n",
        "        self.state0 = self.env.reset()\r\n",
        "        \r\n",
        "    \r\n",
        "    ## Tomar nueva acción\r\n",
        "    def take_step(self, eps, mode='train'):\r\n",
        "        if mode == 'explore': \r\n",
        "            \r\n",
        "            action = self.env.action_space.sample() \r\n",
        "        else:\r\n",
        "            \r\n",
        "            action = self.dnnetwork.get_action(self.state0, eps)\r\n",
        "            self.step_count += 1\r\n",
        "            \r\n",
        "        # Realización de la acción y obtención del nuevo estado y la recompensa\r\n",
        "        new_state, reward, done, _ = self.env.step(action)\r\n",
        "        self.total_reward += reward\r\n",
        "        self.buffer.append(self.state0, action, reward, done, new_state) \r\n",
        "        self.state0 = new_state.copy()\r\n",
        "        \r\n",
        "        if done:\r\n",
        "            self.state0 = env.reset()\r\n",
        "        return done\r\n",
        "\r\n",
        "    \r\n",
        "        \r\n",
        "    ## Entrenamiento\r\n",
        "    def train(self, gamma=0.99, max_episodes=50000, \r\n",
        "              batch_size=32,\r\n",
        "              dnn_update_frequency=10,\r\n",
        "              dnn_sync_frequency=5000):\r\n",
        "        \r\n",
        "        self.gamma = gamma\r\n",
        "\r\n",
        "        # Rellenamos el buffer con N experiencias aleatorias ()\r\n",
        "        print(\"Filling replay buffer...\")\r\n",
        "        while self.buffer.burn_in_capacity() < 1:\r\n",
        "            self.take_step(self.epsilon, mode='explore')\r\n",
        "\r\n",
        "        episode = 0\r\n",
        "        training = True\r\n",
        "        print(\"Training...\")\r\n",
        "        while training:\r\n",
        "            self.state0 = self.env.reset()\r\n",
        "            self.total_reward = 0\r\n",
        "            gamedone = False\r\n",
        "            while gamedone == False:\r\n",
        "                # El agente toma una acción\r\n",
        "                gamedone = self.take_step(self.epsilon, mode='train')\r\n",
        "               \r\n",
        "                # Actualizamos la red principal según la frecuencia establecida\r\n",
        "                if self.step_count % dnn_update_frequency == 0:\r\n",
        "                    self.update()\r\n",
        "                # Sincronizamos red principal y red objetivo según la frecuencia establecida\r\n",
        "                if self.step_count % dnn_sync_frequency == 0:\r\n",
        "                    self.target_network.load_state_dict(\r\n",
        "                        self.dnnetwork.state_dict())\r\n",
        "                    self.sync_eps.append(episode)\r\n",
        "                    \r\n",
        "                \r\n",
        "                if gamedone:                   \r\n",
        "                    episode += 1\r\n",
        "                    self.training_rewards.append(self.total_reward) # guardamos las recompensas obtenidas\r\n",
        "                    self.update_loss = []\r\n",
        "                    mean_rewards = np.mean(   # calculamos la media de recompensa de los últimos X episodios\r\n",
        "                        self.training_rewards[-self.nblock:])\r\n",
        "                    self.mean_training_rewards.append(mean_rewards)\r\n",
        "\r\n",
        "                    print(\"\\rEpisode {:d} Mean Rewards {:.2f} Epsilon {}\\t\\t\".format(\r\n",
        "                        episode, mean_rewards, self.epsilon), end=\"\")\r\n",
        "                    \r\n",
        "                    # Comprobamos que todavía quedan episodios\r\n",
        "                    if episode >= max_episodes:\r\n",
        "                        training = False\r\n",
        "                        print('\\nEpisode limit reached.')\r\n",
        "                        break\r\n",
        "                    \r\n",
        "                    # Termina el juego si la media de recompensas ha llegado al umbral fijado para este juego  \r\n",
        "                    if mean_rewards >= self.reward_threshold:\r\n",
        "                        training = False\r\n",
        "                        print('\\nEnvironment solved in {} episodes!'.format(\r\n",
        "                            episode))\r\n",
        "                        break\r\n",
        "                    \r\n",
        "                    # Actualizar epsilon según la velocidad de decaimiento fijada\r\n",
        "                    self.epsilon = max(self.epsilon * self.eps_decay, 0.01)\r\n",
        "                    \r\n",
        "                \r\n",
        "    ## Cálculo de la pérdida                   \r\n",
        "    def calculate_loss(self, batch):\r\n",
        "        # Separamos las variables de la experiencia y las convertimos a tensores \r\n",
        "        states, actions, rewards, dones, next_states = [i for i in batch] \r\n",
        "        rewards_vals = torch.FloatTensor(rewards).to(device=self.dnnetwork.device) \r\n",
        "        actions_vals = torch.LongTensor(np.array(actions)).reshape(-1,1).to(\r\n",
        "            device=self.dnnetwork.device)\r\n",
        "        dones_t = torch.ByteTensor(dones).to(device=self.dnnetwork.device)\r\n",
        "        \r\n",
        "        # Obtenemos los valores de Q de la red principal\r\n",
        "        qvals = torch.gather(self.dnnetwork.get_qvals(states), 1, actions_vals)\r\n",
        "        # Obtenemos los valores de Q objetivo. El parámetro detach() evita que estos valores actualicen la red objetivo\r\n",
        "        qvals_next = torch.max(self.target_network.get_qvals(next_states),\r\n",
        "                               dim=-1)[0].detach()\r\n",
        "        qvals_next[dones_t] = 0 # 0 en estados terminales\r\n",
        "        \r\n",
        "        # Calculamos ecuación de Bellman\r\n",
        "        expected_qvals = self.gamma * qvals_next + rewards_vals\r\n",
        "        \r\n",
        "        # Calculamos la pérdida\r\n",
        "        loss = torch.nn.MSELoss()(qvals, expected_qvals.reshape(-1,1))\r\n",
        "        return loss\r\n",
        "    \r\n",
        "\r\n",
        "    \r\n",
        "    def update(self):\r\n",
        "        self.dnnetwork.optimizer.zero_grad()  # eliminamos cualquier gradiente pasado\r\n",
        "        batch = self.buffer.sample_batch(batch_size=self.batch_size) # seleccionamos un conjunto del buffer\r\n",
        "        loss = self.calculate_loss(batch) # calculamos la pérdida\r\n",
        "        loss.backward() # hacemos la diferencia para obtener los gradientes\r\n",
        "        self.dnnetwork.optimizer.step() # aplicamos los gradientes a la red neuronal\r\n",
        "        # Guardamos los valores de pérdida\r\n",
        "        if self.dnnetwork.device == 'cuda':\r\n",
        "            self.update_loss.append(loss.detach().cpu().numpy())\r\n",
        "        else:\r\n",
        "            self.update_loss.append(loss.detach().numpy())\r\n",
        "            \r\n",
        "\r\n",
        "\r\n",
        "    def plot_rewards(self):\r\n",
        "        plt.figure(figsize=(12,8))\r\n",
        "        plt.plot(self.training_rewards, label='Rewards')\r\n",
        "        plt.plot(self.mean_training_rewards, label='Mean Rewards')\r\n",
        "        plt.axhline(self.reward_threshold, color='r', label=\"Reward threshold\")\r\n",
        "        plt.xlabel('Episodes')\r\n",
        "        plt.ylabel('Rewards')\r\n",
        "        plt.legend(loc=\"upper left\")\r\n",
        "        plt.show()"
      ],
      "execution_count": 10,
      "outputs": []
    },
    {
      "cell_type": "code",
      "metadata": {
        "id": "bSFtb7l01WzR"
      },
      "source": [
        "lr = 0.001            \r\n",
        "mem_size= 100000  \r\n",
        "max_episodes = 5000   \r\n",
        "epsilon = 1           \r\n",
        "epsilon_decay = .99   \r\n",
        "gamma = 0.99          \r\n",
        "batch_size = 32       \r\n",
        "burn_in = 1000        \r\n",
        "update_dnn = 1           \r\n",
        "sync_dnn = 2500  "
      ],
      "execution_count": 11,
      "outputs": []
    },
    {
      "cell_type": "code",
      "metadata": {
        "id": "zL8tjZ5N1mpP"
      },
      "source": [
        "buffer = experienceReplayBuffer(memory_size=mem_size, burn_in=burn_in)\r\n"
      ],
      "execution_count": 12,
      "outputs": []
    },
    {
      "cell_type": "code",
      "metadata": {
        "id": "zxPogmdk1qiP"
      },
      "source": [
        "dqn = DQN(env, learning_rate=lr)"
      ],
      "execution_count": 13,
      "outputs": []
    },
    {
      "cell_type": "code",
      "metadata": {
        "id": "VkNpxKNH1soB"
      },
      "source": [
        "agent = DQNAgent(env, dqn, buffer, epsilon, epsilon_decay, batch_size)\r\n"
      ],
      "execution_count": 14,
      "outputs": []
    },
    {
      "cell_type": "code",
      "metadata": {
        "colab": {
          "base_uri": "https://localhost:8080/"
        },
        "id": "pYXp1_mo1x-M",
        "outputId": "b878bb85-ba1a-482f-cff1-ebb43072ae9a"
      },
      "source": [
        "agent.train(gamma=gamma, max_episodes=max_episodes, batch_size=batch_size, dnn_update_frequency=update_dnn, dnn_sync_frequency=sync_dnn)"
      ],
      "execution_count": 15,
      "outputs": [
        {
          "output_type": "stream",
          "text": [
            "Filling replay buffer...\n",
            "Training...\n"
          ],
          "name": "stdout"
        },
        {
          "output_type": "stream",
          "text": [
            "/usr/local/lib/python3.6/dist-packages/ipykernel_launcher.py:125: UserWarning: indexing with dtype torch.uint8 is now deprecated, please use a dtype torch.bool instead. (Triggered internally at  /pytorch/aten/src/ATen/native/IndexingUtils.h:25.)\n"
          ],
          "name": "stderr"
        },
        {
          "output_type": "stream",
          "text": [
            "Episode 974 Mean Rewards 195.32 Epsilon 0.01\t\t\n",
            "Environment solved in 974 episodes!\n"
          ],
          "name": "stdout"
        }
      ]
    },
    {
      "cell_type": "code",
      "metadata": {
        "colab": {
          "base_uri": "https://localhost:8080/",
          "height": 497
        },
        "id": "Mzt2ua_j16ls",
        "outputId": "c37f6c67-a116-4168-86fd-40dbc411f984"
      },
      "source": [
        "agent.plot_rewards()"
      ],
      "execution_count": 16,
      "outputs": [
        {
          "output_type": "display_data",
          "data": {
            "image/png": "[encoded data removed]",
            "text/plain": [
              "<Figure size 864x576 with 1 Axes>"
            ]
          },
          "metadata": {
            "tags": [],
            "needs_background": "light"
          }
        }
      ]
    },
    {
      "cell_type": "code",
      "metadata": {
        "id": "uMhxtNSN2jHP"
      },
      "source": [
        ""
      ],
      "execution_count": null,
      "outputs": []
    }
  ]
}